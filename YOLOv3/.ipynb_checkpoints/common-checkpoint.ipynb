{
 "cells": [
  {
   "cell_type": "code",
   "execution_count": 2,
   "metadata": {},
   "outputs": [],
   "source": [
    "import tensorflow as tf"
   ]
  },
  {
   "cell_type": "code",
   "execution_count": null,
   "metadata": {},
   "outputs": [],
   "source": [
    "calss BatchNormalization(tf.keras.layers.BatchNormalization):\n",
    "    '''\n",
    "    “frozen state”和“inference mode”是两个独立的概念。\n",
    "    layer.trainable = False用于冻结该层，\n",
    "    因此该层将在“推理模式”中使用存储的移动var和均值，\n",
    "    并且gama和beta将不会更新！\n",
    "    '''\n",
    "    def call(self, x, training=False):\n",
    "        if not training:\n",
    "            training = tf.constant(False)\n",
    "        training = tf.logical_and(training, self.trainable)#逻辑和运算\n",
    "        return super().call(x, training)"
   ]
  },
  {
   "cell_type": "code",
   "execution_count": null,
   "metadata": {},
   "outputs": [],
   "source": [
    "def convolutional(input_layer, filters_shape, downsample=False, activate=True, bn=True):\n",
    "    '''\n",
    "    filters_shape=(kernel_size, kernel_size,  input_channel, filter_num)\n",
    "    a = tf.constant([[[[1,2,3],[4,5,6],[7,8,9]],\n",
    "                 [[1,2,3],[4,5,6],[7,8,9]],\n",
    "                 [[1,2,3],[4,5,6],[7,8,9]]]])\n",
    "    input_layer = tf.keras.layers.ZeroPadding2D(((1,0),(1,0)))(a)\n",
    "    '''\n",
    "    #是否下采样\n",
    "    if downsample:\n",
    "        input_layer = tf.keras.layers.ZeroPadding2D(((1,0),(1,0)))(input_layer)#输入的shape(None,h,w,c)\n",
    "        padding = 'valid'                                                      #输出shape(None,h+1,w+1,c)\n",
    "        strides = 2\n",
    "    else:\n",
    "        strides = 1\n",
    "        padding = 'same'\n",
    "        \n",
    "    conv = tf.keras.layers.Conv2D(filters=filters_shape[-1], kernel_size=filters_shape[0],\n",
    "                                  strides=strides,padding=padding,use_bias=not bn,\n",
    "                                 kernel_initializer=tf.random_normal_initializer(stddev=0.01),\n",
    "                                 bias_initializer=tf.constant_initializer(0.))(input_layer)\n",
    "    if bn: conv = BatchNormalization()(conv)\n",
    "    if activate: conv = tf.nn.leaky_relu(conv, alpha=0.1)\n",
    "        \n",
    "    return conv"
   ]
  },
  {
   "cell_type": "code",
   "execution_count": 25,
   "metadata": {},
   "outputs": [],
   "source": [
    "def residual_block(input_layer, input_channel, filter_num1, filter_num2):\n",
    "    '''\n",
    "    残差块\n",
    "    '''\n",
    "    x = input_layer\n",
    "    conv = convolutional(input_layer, filters_shape=(1, 1, input_channel, filter_num1))\n",
    "    conv = convolutional(conv, filters_shape=(3, 3, filter_num1, filter_num2))\n",
    "    residual_output = x + conv\n",
    "    return residual_output"
   ]
  },
  {
   "cell_type": "code",
   "execution_count": null,
   "metadata": {},
   "outputs": [],
   "source": [
    "def upsample(input_layer):\n",
    "    '''\n",
    "    上采样\n",
    "    '''\n",
    "    return tf.image.resize(input_layer, (input_layer[1]*2, input_layer[2]*2), method='nearest')"
   ]
  },
  {
   "cell_type": "code",
   "execution_count": null,
   "metadata": {},
   "outputs": [],
   "source": []
  }
 ],
 "metadata": {
  "kernelspec": {
   "display_name": "Python 3",
   "language": "python",
   "name": "python3"
  },
  "language_info": {
   "codemirror_mode": {
    "name": "ipython",
    "version": 3
   },
   "file_extension": ".py",
   "mimetype": "text/x-python",
   "name": "python",
   "nbconvert_exporter": "python",
   "pygments_lexer": "ipython3",
   "version": "3.7.5"
  },
  "toc": {
   "base_numbering": 1,
   "nav_menu": {},
   "number_sections": true,
   "sideBar": true,
   "skip_h1_title": false,
   "title_cell": "Table of Contents",
   "title_sidebar": "Contents",
   "toc_cell": false,
   "toc_position": {},
   "toc_section_display": true,
   "toc_window_display": false
  }
 },
 "nbformat": 4,
 "nbformat_minor": 2
}
