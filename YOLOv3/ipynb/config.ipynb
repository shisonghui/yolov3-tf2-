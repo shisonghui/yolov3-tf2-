{
 "cells": [
  {
   "cell_type": "code",
   "execution_count": null,
   "metadata": {},
   "outputs": [],
   "source": [
    "from easydict import EasyDict as edict\n",
    "\n",
    "\n",
    "__C                           = edict()\n",
    "# Consumers can get config by: from config import cfg\n",
    "\n",
    "cfg                           = __C\n",
    "\n",
    "# YOLO options\n",
    "__C.YOLO                      = edict()\n",
    "\n",
    "# Set the class name\n",
    "__C.YOLO.CLASSES              = \"./data/classes/coco.names\"\n",
    "__C.YOLO.ANCHORS              = \"./data/anchors/basline_anchors.txt\"\n",
    "__C.YOLO.STRIDES              = [8, 16, 32]\n",
    "__C.YOLO.ANCHOR_PER_SCALE     = 3\n",
    "__C.YOLO.IOU_LOSS_THRESH      = 0.5\n",
    "\n",
    "# Train options\n",
    "__C.TRAIN                     = edict()\n",
    "\n",
    "__C.TRAIN.ANNOT_PATH          = \"./data/dataset/yymnist_train.txt\"\n",
    "__C.TRAIN.BATCH_SIZE          = 4\n",
    "# __C.TRAIN.INPUT_SIZE            = [320, 352, 384, 416, 448, 480, 512, 544, 576, 608]\n",
    "__C.TRAIN.INPUT_SIZE          = [416]\n",
    "__C.TRAIN.DATA_AUG            = True\n",
    "__C.TRAIN.LR_INIT             = 1e-3\n",
    "__C.TRAIN.LR_END              = 1e-6\n",
    "__C.TRAIN.WARMUP_EPOCHS       = 2\n",
    "__C.TRAIN.EPOCHS              = 30\n",
    "\n",
    "\n",
    "\n",
    "# TEST options\n",
    "__C.TEST                      = edict()\n",
    "\n",
    "__C.TEST.ANNOT_PATH           = \"./data/dataset/yymnist_test.txt\"\n",
    "__C.TEST.BATCH_SIZE           = 2\n",
    "__C.TEST.INPUT_SIZE           = 544\n",
    "__C.TEST.DATA_AUG             = False\n",
    "__C.TEST.DECTECTED_IMAGE_PATH = \"./data/detection/\"\n",
    "__C.TEST.SCORE_THRESHOLD      = 0.3\n",
    "__C.TEST.IOU_THRESHOLD        = 0.45"
   ]
  }
 ],
 "metadata": {
  "kernelspec": {
   "display_name": "Python 3",
   "language": "python",
   "name": "python3"
  },
  "language_info": {
   "codemirror_mode": {
    "name": "ipython",
    "version": 3
   },
   "file_extension": ".py",
   "mimetype": "text/x-python",
   "name": "python",
   "nbconvert_exporter": "python",
   "pygments_lexer": "ipython3",
   "version": "3.7.5"
  },
  "toc": {
   "base_numbering": 1,
   "nav_menu": {},
   "number_sections": true,
   "sideBar": true,
   "skip_h1_title": false,
   "title_cell": "Table of Contents",
   "title_sidebar": "Contents",
   "toc_cell": false,
   "toc_position": {},
   "toc_section_display": true,
   "toc_window_display": false
  }
 },
 "nbformat": 4,
 "nbformat_minor": 2
}
