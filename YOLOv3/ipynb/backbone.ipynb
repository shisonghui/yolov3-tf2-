{
 "cells": [
  {
   "cell_type": "code",
   "execution_count": null,
   "metadata": {},
   "outputs": [],
   "source": [
    "import core.common as common\n",
    "\n",
    "def darknet53(input_data):\n",
    "    '''\n",
    "    input_data是3通道的\n",
    "    output_data是1024通道的\n",
    "    '''\n",
    "    x = common.convolutional(input_data, (3, 3, 3, 32))\n",
    "    x = common.convolutional(x, (3, 3, 32, 64), downsample='True')\n",
    "    \n",
    "    for i in range(1):\n",
    "        x = common.residual_block(x, 64, 32, 64)\n",
    "        \n",
    "    x = common.convolutional(x, (3, 3, 64, 128), downsample='True')\n",
    "    \n",
    "    for i in range(2):\n",
    "        x = common.residual_block(x, 128, 64, 128)\n",
    "        \n",
    "    x = common.convolutional(x, (3, 3, 128, 256), downsample='True')\n",
    "    \n",
    "    for i in range(8):\n",
    "        x = common.residual_block(x, 256, 128, 256)\n",
    "        \n",
    "    route_1 = x\n",
    "    x = common.convolutional(x, (3, 3, 256, 512), downsample='True')\n",
    "    \n",
    "    for i in range(8):\n",
    "        x = common.residual_block(x, 512, 256, 512)\n",
    "        \n",
    "    route_2 = x\n",
    "    output_data = common.convolutional(x, (3, 3, 512, 1024), downsample='True')\n",
    "    \n",
    "    return route_1, route_2, output_data"
   ]
  }
 ],
 "metadata": {
  "kernelspec": {
   "display_name": "Python 3",
   "language": "python",
   "name": "python3"
  },
  "language_info": {
   "codemirror_mode": {
    "name": "ipython",
    "version": 3
   },
   "file_extension": ".py",
   "mimetype": "text/x-python",
   "name": "python",
   "nbconvert_exporter": "python",
   "pygments_lexer": "ipython3",
   "version": "3.7.5"
  },
  "toc": {
   "base_numbering": 1,
   "nav_menu": {},
   "number_sections": true,
   "sideBar": true,
   "skip_h1_title": false,
   "title_cell": "Table of Contents",
   "title_sidebar": "Contents",
   "toc_cell": false,
   "toc_position": {},
   "toc_section_display": true,
   "toc_window_display": false
  }
 },
 "nbformat": 4,
 "nbformat_minor": 2
}
