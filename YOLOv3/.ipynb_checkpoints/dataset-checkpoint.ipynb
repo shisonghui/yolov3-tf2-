{
 "cells": [
  {
   "cell_type": "code",
   "execution_count": null,
   "metadata": {},
   "outputs": [],
   "source": [
    "'''\n",
    "cv2.imread()接口读图像，读进来直接是BGR 格式数据格式在 0~255\n",
    "需要特别注意的是图片读出来的格式是BGR，不是我们最常见的RGB格式，颜色肯定有区别\n",
    "cv2.cvtColor(p1,p2) 是颜色空间转换函数，p1是需要转换的图片，p2是转换成何种格式。\n",
    "cv2.COLOR_BGR2RGB 将BGR格式转换成RGB格式\n",
    "cv2.COLOR_BGR2GRAY 将BGR格式转换成灰度图片\n",
    "'''"
   ]
  },
  {
   "cell_type": "code",
   "execution_count": 16,
   "metadata": {},
   "outputs": [],
   "source": [
    "import os\n",
    "import cv2\n",
    "import random\n",
    "import numpy as np\n",
    "import tensorflow as tf\n",
    "import core.utils as utils\n",
    "from core.config import cfg"
   ]
  },
  {
   "cell_type": "code",
   "execution_count": 13,
   "metadata": {
    "code_folding": [
     1,
     17,
     25,
     79,
     88,
     111,
     134,
     156,
     175,
     201,
     267
    ]
   },
   "outputs": [],
   "source": [
    "class Dataset(object):\n",
    "    def __init__(self, dataset_type):\n",
    "        self.annot_path  = cfg.TRAIN.ANNOT_PATH if dataset_type == 'train' else cfg.TEST.ANNOT_PATH #\"./data/dataset/yymnist_train.txt\"\n",
    "        self.input_sizes = cfg.TRAIN.INPUT_SIZE if dataset_type == 'train' else cfg.TEST.INPUT_SIZE  #416  544\n",
    "        self.batch_size  = cfg.TRAIN.BATCH_SIZE if dataset_type == 'train' else cfg.TEST.BATCH_SIZE  #4  2\n",
    "        self.data_aug    = cfg.TRAIN.DATA_AUG   if dataset_type == 'train' else cfg.TEST.DATA_AUG  #True  False\n",
    "        self.train_input_sizes = cfg.TRAIN.INPUT_SIZE  #416\n",
    "        self.strides = np.array(cfg.YOLO.STRIDES)      #[8, 16, 32]\n",
    "        self.classes = utils.read_class_names(cfg.YOLO.CLASSES)    #\"./data/classes/coco.names\"注意格式是.names  返回的是字典names\n",
    "        self.num_classes = len(self.classes)  #类别数目\n",
    "        self.anchors = np.array(utils.get_anchors(cfg.YOLO.ANCHORS)) #return anchors.reshape(3,3,2)\n",
    "        self.anchor_per_scale = cfg.YOLO.ANCHOR_PER_SCALE  # 3\n",
    "        self.max_bbox_per_scale = 150\n",
    "        self.annotations = self.load_annotations(dataset_type)  #注解\n",
    "        self.num_samples = len(self.annotations)    #注解的长度就是样本的数量\n",
    "        self.num_batchs = int(np.ceil(self.num_samples / self.batch_size))  #batch的数目 #np.ceil()计算大于等于该值的最小整数\n",
    "        self.batch_count = 0\n",
    "    def load_annotations(self, dataset_type):\n",
    "        '''下载注解'''\n",
    "        with open(self.annot_path, 'r') as f:\n",
    "            txt = f.readlines()    #读取整个文件（f）所有行，保存在一个列表(list)变量中，每行作为一个元素，但读取大文件会比较占内存。\n",
    "            annotations = [line.strip() for line in txt if len(line.strip().split()[1:]) != 0]\n",
    "        np.random.shuffle(annotations)   #打乱顺序\n",
    "        return annotations\n",
    "    \n",
    "    def __iter__(self):\n",
    "        '''定义__iter__方法，该方法返回迭代器'''\n",
    "        return self\n",
    "    \n",
    "    def __next__(self):\n",
    "        '''定义迭代器所需要的__next__方法，返回迭代器的下一个元素'''\n",
    "        with tf.device('/cpu:0'): #使用 tf.device() 指定模型运行的具体设备，可以指定运行在GPU还是CUP上，以及哪块GPU上。\n",
    "                                  #tensorflow中不同的GPU使用/gpu:0和/gpu:1区分，而CPU不区分设备号，统一使用 /cpu:0\n",
    "            self.train_input_size = np.random.choice(self.train_input_sizes)  #随机取0-415之间的数\n",
    "            self.train_output_sizes = self.train_input_size // self.strides   #返回一维数组，长度是3\n",
    "\n",
    "            batch_image = np.zeros((self.batch_size, self.train_input_size, self.train_input_size, 3), dtype=np.float32)\n",
    "\n",
    "            batch_label_sbbox = np.zeros((self.batch_size, self.train_output_sizes[0], self.train_output_sizes[0],\n",
    "                                          self.anchor_per_scale, 5 + self.num_classes), dtype=np.float32)\n",
    "            batch_label_mbbox = np.zeros((self.batch_size, self.train_output_sizes[1], self.train_output_sizes[1],\n",
    "                                          self.anchor_per_scale, 5 + self.num_classes), dtype=np.float32)\n",
    "            batch_label_lbbox = np.zeros((self.batch_size, self.train_output_sizes[2], self.train_output_sizes[2],\n",
    "                                          self.anchor_per_scale, 5 + self.num_classes), dtype=np.float32)\n",
    "\n",
    "            batch_sbboxes = np.zeros((self.batch_size, self.max_bbox_per_scale, 4), dtype=np.float32)\n",
    "            batch_mbboxes = np.zeros((self.batch_size, self.max_bbox_per_scale, 4), dtype=np.float32)\n",
    "            batch_lbboxes = np.zeros((self.batch_size, self.max_bbox_per_scale, 4), dtype=np.float32)\n",
    "\n",
    "            num = 0\n",
    "            if self.batch_count < self.num_batchs:\n",
    "                while num < self.batch_size:\n",
    "                    index = self.batch_count * self.batch_size + num\n",
    "                    if index >= self.num_samples: index -= self.num_samples\n",
    "                    annotation = self.annotations[index]\n",
    "                    image, bboxes = self.parse_annotation(annotation)  #分析注解,image.shape=(self.train_input_size, self.train_input_size,3)且归一化 /255\n",
    "                                                                       #bboxes 也相应的改变了\n",
    "                    #处理边界框，得到三种尺寸下： small, medium, large的样本标签y和其对应的边界框\n",
    "                    label_sbbox, label_mbbox, label_lbbox, sbboxes, mbboxes, lbboxes = self.preprocess_true_boxes(bboxes)\n",
    "\n",
    "                    batch_image[num, :, :, :] = image\n",
    "                    batch_label_sbbox[num, :, :, :, :] = label_sbbox\n",
    "                    batch_label_mbbox[num, :, :, :, :] = label_mbbox\n",
    "                    batch_label_lbbox[num, :, :, :, :] = label_lbbox\n",
    "                    batch_sbboxes[num, :, :] = sbboxes\n",
    "                    batch_mbboxes[num, :, :] = mbboxes\n",
    "                    batch_lbboxes[num, :, :] = lbboxes\n",
    "                    num += 1\n",
    "                self.batch_count += 1\n",
    "                batch_smaller_target = batch_label_sbbox, batch_sbboxes  #元组（标签，边界框数据）\n",
    "                batch_medium_target  = batch_label_mbbox, batch_mbboxes\n",
    "                batch_larger_target  = batch_label_lbbox, batch_lbboxes\n",
    "\n",
    "                return batch_image, (batch_smaller_target, batch_medium_target, batch_larger_target)\n",
    "            else:\n",
    "                self.batch_count = 0\n",
    "                np.random.shuffle(self.annotations)\n",
    "                raise StopIteration\n",
    "    \n",
    "    def random_horizontal_flip(self, image, bboxes):\n",
    "\n",
    "        if random.random() < 0.5:\n",
    "            _, w, _ = image.shape\n",
    "            image = image[:, ::-1, :]\n",
    "            bboxes[:, [0,2]] = w - bboxes[:, [2,0]]\n",
    "\n",
    "        return image, bboxes\n",
    "\n",
    "     def random_crop(self, image, bboxes):\n",
    "\n",
    "        if random.random() < 0.5:\n",
    "            h, w, _ = image.shape\n",
    "            max_bbox = np.concatenate([np.min(bboxes[:, 0:2], axis=0), np.max(bboxes[:, 2:4], axis=0)], axis=-1)\n",
    "\n",
    "            max_l_trans = max_bbox[0]\n",
    "            max_u_trans = max_bbox[1]\n",
    "            max_r_trans = w - max_bbox[2]\n",
    "            max_d_trans = h - max_bbox[3]\n",
    "\n",
    "            crop_xmin = max(0, int(max_bbox[0] - random.uniform(0, max_l_trans)))\n",
    "            crop_ymin = max(0, int(max_bbox[1] - random.uniform(0, max_u_trans)))\n",
    "            crop_xmax = max(w, int(max_bbox[2] + random.uniform(0, max_r_trans)))\n",
    "            crop_ymax = max(h, int(max_bbox[3] + random.uniform(0, max_d_trans)))\n",
    "\n",
    "            image = image[crop_ymin : crop_ymax, crop_xmin : crop_xmax]\n",
    "\n",
    "            bboxes[:, [0, 2]] = bboxes[:, [0, 2]] - crop_xmin\n",
    "            bboxes[:, [1, 3]] = bboxes[:, [1, 3]] - crop_ymin\n",
    "\n",
    "        return image, bboxes\n",
    "    \n",
    "    def random_crop(self, image, bboxes):\n",
    "\n",
    "        if random.random() < 0.5:\n",
    "            h, w, _ = image.shape\n",
    "            max_bbox = np.concatenate([np.min(bboxes[:, 0:2], axis=0), np.max(bboxes[:, 2:4], axis=0)], axis=-1)\n",
    "\n",
    "            max_l_trans = max_bbox[0]\n",
    "            max_u_trans = max_bbox[1]\n",
    "            max_r_trans = w - max_bbox[2]\n",
    "            max_d_trans = h - max_bbox[3]\n",
    "\n",
    "            crop_xmin = max(0, int(max_bbox[0] - random.uniform(0, max_l_trans)))\n",
    "            crop_ymin = max(0, int(max_bbox[1] - random.uniform(0, max_u_trans)))\n",
    "            crop_xmax = max(w, int(max_bbox[2] + random.uniform(0, max_r_trans)))\n",
    "            crop_ymax = max(h, int(max_bbox[3] + random.uniform(0, max_d_trans)))\n",
    "\n",
    "            image = image[crop_ymin : crop_ymax, crop_xmin : crop_xmax]\n",
    "\n",
    "            bboxes[:, [0, 2]] = bboxes[:, [0, 2]] - crop_xmin\n",
    "            bboxes[:, [1, 3]] = bboxes[:, [1, 3]] - crop_ymin\n",
    "\n",
    "        return image, bboxes\n",
    "\n",
    "    def random_translate(self, image, bboxes):\n",
    "\n",
    "        if random.random() < 0.5:\n",
    "            h, w, _ = image.shape\n",
    "            max_bbox = np.concatenate([np.min(bboxes[:, 0:2], axis=0), np.max(bboxes[:, 2:4], axis=0)], axis=-1)\n",
    "\n",
    "            max_l_trans = max_bbox[0]\n",
    "            max_u_trans = max_bbox[1]\n",
    "            max_r_trans = w - max_bbox[2]\n",
    "            max_d_trans = h - max_bbox[3]\n",
    "\n",
    "            tx = random.uniform(-(max_l_trans - 1), (max_r_trans - 1))\n",
    "            ty = random.uniform(-(max_u_trans - 1), (max_d_trans - 1))\n",
    "\n",
    "            M = np.array([[1, 0, tx], [0, 1, ty]])\n",
    "            image = cv2.warpAffine(image, M, (w, h))\n",
    "\n",
    "            bboxes[:, [0, 2]] = bboxes[:, [0, 2]] + tx\n",
    "            bboxes[:, [1, 3]] = bboxes[:, [1, 3]] + ty\n",
    "\n",
    "        return image, bboxes\n",
    "    \n",
    "    def parse_annotation(self, annotations):\n",
    "        \n",
    "        line = annotations.split()\n",
    "        image_path = line[0]\n",
    "        if not os.path.exists(image_path):\n",
    "            raise KeyError(\"%s does not exist...\" %image_path)\n",
    "        image = cv2.imread(image_path)\n",
    "        bboxes = np.array([list(map(int, box.split(','))) for box in line[1:]])\n",
    "        \n",
    "        if self.data_aug:\n",
    "            image, bboxes = self.random_horizontal_flip(np.copy(image),np.copy(bboxes))  #np.copy 浅拷贝 随机水平镜像\n",
    "            image, bboxes = self.random_crop(np.copy(image), np.copy(bboxes))  #随机裁剪\n",
    "            image, bboxes = self.random_translate(np.copy(image), np.copy(bboxes))  #随机翻译\n",
    "            \n",
    "        image = cv2.cvtColor(image, cv2.COLOR_BGR2RGB)  #转换图像格式为RGB\n",
    "        image, bboxes = utils.image_preporcess(np.copy(image), [self.train_input_size, self.train_input_size], np.copy(bboxes))\n",
    "        \n",
    "        return image, bboxes\n",
    "    \n",
    "    def bbox_iou(self, boxes1, boxes2):\n",
    "        '''\n",
    "        boxes1 /2 shape (3, 4) ，3代表每个尺度有三个anchor，每个anchor是四维的（x,y,w,h）\n",
    "        '''\n",
    "        boxes1 = np.array(boxes1)\n",
    "        boxes2 = np.array(boxes2)\n",
    "\n",
    "        boxes1_area = boxes1[..., 2] * boxes1[..., 3]  #面积=宽*高\n",
    "        boxes2_area = boxes2[..., 2] * boxes2[..., 3]\n",
    "        #求两个框的交集面积  inter_area\n",
    "        boxes1 = np.concatenate([boxes1[..., :2] - boxes1[..., 2:] * 0.5,\n",
    "                                boxes1[..., :2] + boxes1[..., 2:] * 0.5], axis=-1)\n",
    "        boxes2 = np.concatenate([boxes2[..., :2] - boxes2[..., 2:] * 0.5,\n",
    "                                boxes2[..., :2] + boxes2[..., 2:] * 0.5], axis=-1)\n",
    "\n",
    "        left_up = np.maximum(boxes1[..., :2], boxes2[..., :2])\n",
    "        right_down = np.minimum(boxes1[..., 2:], boxes2[..., 2:])\n",
    "\n",
    "        inter_section = np.maximum(right_down - left_up, 0.0)\n",
    "        inter_area = inter_section[..., 0] * inter_section[..., 1]\n",
    "        \n",
    "        #并集面积  union_area\n",
    "        union_area = boxes1_area + boxes2_area - inter_area\n",
    "        \n",
    "        return inter_area / union_area  #两个框boxes1, boxes2的交并比\n",
    "    \n",
    "    def preprocess_true_boxes(self, bboxes):\n",
    "        \n",
    "        \n",
    "        label = [np.zeros((self.train_output_sizes[i], self.train_output_sizes[i], self.anchor_per_scale,\n",
    "                         5 + self.num_classes)) for i in range(3)]\n",
    "        bboxes_xywh = [np.zeros((self.max_bbox_per_scale, 4)) for _ in range(3)]\n",
    "        bbox_count = np.zeros((3,))\n",
    "        \n",
    "        for bbox in bboxes:\n",
    "            bbox_coor = bbox[:,4]\n",
    "            bbox_class_ind = bbox[4]\n",
    "            \n",
    "            #对类别进行onehot编码\n",
    "            onehot = np.zeros(self.num_classes, dtype=np.float)\n",
    "            onehot[bbox_class_ind] = 1.0\n",
    "            uniform_distribution = np.full(self.num_classes, 1.0 / self.num_classes)\n",
    "            deta = 0.01\n",
    "            smooth_onehot = onehot * (1 - deta) + deta * uniform_distribution\n",
    "            \n",
    "            bbox_xywh = np.concatenate([(bbox_coor[2:] + bbox_coor[:2]) * 0.5, bbox_coor[2:] - bbox_coor[:2]], axis=-1)\n",
    "            bbox_xywh_scaled = 1.0 * bbox_xywh[np.newaxis, :] / self.strides[:, np.newaxis]\n",
    "            \n",
    "            iou = []\n",
    "            exist_positive = False\n",
    "            \n",
    "            for i in range(3):  #共三种尺寸： small, medium, large\n",
    "                anchors_xywh = np.zeros((self.anchor_per_scale, 4))\n",
    "                anchors_xywh[:, 0:2] = np.floor(bbox_xywh_scaled[i, 0:2]).astype(np.int32) + 0.5\n",
    "                anchors_xywh[:, 2:4] = self.anchors[i]   #事前聚类得到的anchors宽高，共9个，每个尺寸3个\n",
    "                \n",
    "                iou_scale = self.bbox_iou(bbox_xywh_scaled[i][np.newaxis, :], anchors_xywh)  #计算边界框和anchor的交并比\n",
    "                iou.append(iou_scale)\n",
    "                iou_mask = iou_scale > 0.3\n",
    "                \n",
    "                if np.any(iou_mask):\n",
    "                    xind, yind = np.floor(bbox_xywh_scaled[i, 0:2]).astype(np.int32)\n",
    "                    #样本标签 (x, y, w, h, score, probability)\n",
    "                    label[i][yind, xind, iou_mask, :] = 0\n",
    "                    label[i][yind, xind, iou_mask, 0:4] = bbox_xywh\n",
    "                    label[i][yind, xind, iou_mask, 4:5] = 1.0\n",
    "                    label[i][yind, xind, iou_mask, 5:] = smooth_onehot\n",
    "\n",
    "                    bbox_ind = int(bbox_count[i] % self.max_bbox_per_scale)\n",
    "                    bboxes_xywh[i][bbox_ind, :4] = bbox_xywh  #存储所有边界框的数据，且容量不得大于self.max_bbox_per_scale\n",
    "                    bbox_count[i] += 1\n",
    "\n",
    "                    exist_positive = True\n",
    "                \n",
    "            if not exist_positive:\n",
    "                best_anchor_ind = np.argmax(np.array(iou).reshape(-1), axis=-1)\n",
    "                best_detect = int(best_anchor_ind / self.anchor_per_scale)\n",
    "                best_anchor = int(best_anchor_ind % self.anchor_per_scale)\n",
    "                xind, yind = np.floor(bbox_xywh_scaled[best_detect, 0:2]).astype(np.int32)\n",
    "\n",
    "                label[best_detect][yind, xind, best_anchor, :] = 0\n",
    "                label[best_detect][yind, xind, best_anchor, 0:4] = bbox_xywh\n",
    "                label[best_detect][yind, xind, best_anchor, 4:5] = 1.0\n",
    "                label[best_detect][yind, xind, best_anchor, 5:] = smooth_onehot\n",
    "\n",
    "                bbox_ind = int(bbox_count[best_detect] % self.max_bbox_per_scale)\n",
    "                bboxes_xywh[best_detect][bbox_ind, :4] = bbox_xywh\n",
    "                bbox_count[best_detect] += 1\n",
    "        label_sbbox, label_mbbox, label_lbbox = label\n",
    "        sbboxes, mbboxes, lbboxes = bboxes_xywh\n",
    "        return label_sbbox, label_mbbox, label_lbbox, sbboxes, mbboxes, lbboxes\n",
    "    \n",
    "    def __len__(self):\n",
    "        return self.num_batchs"
   ]
  },
  {
   "cell_type": "code",
   "execution_count": 9,
   "metadata": {},
   "outputs": [],
   "source": [
    "#import numpy as np\n",
    "#x = np.random.choice(416)"
   ]
  },
  {
   "cell_type": "code",
   "execution_count": 12,
   "metadata": {},
   "outputs": [
    {
     "data": {
      "text/plain": [
       "array([371, 185, 123], dtype=int32)"
      ]
     },
     "execution_count": 12,
     "metadata": {},
     "output_type": "execute_result"
    }
   ],
   "source": [
    "#x // np.array([1,2,3])"
   ]
  },
  {
   "cell_type": "code",
   "execution_count": 13,
   "metadata": {},
   "outputs": [],
   "source": [
    "\n",
    "#a = [1, 2, ['a']]\n",
    "#b = np.copy(a)"
   ]
  },
  {
   "cell_type": "code",
   "execution_count": 18,
   "metadata": {},
   "outputs": [],
   "source": [
    "#a[2].append('b')\n",
    "#a.append(3)"
   ]
  },
  {
   "cell_type": "code",
   "execution_count": 19,
   "metadata": {},
   "outputs": [
    {
     "data": {
      "text/plain": [
       "[1, 2, ['a', 'b', 'b'], 3]"
      ]
     },
     "execution_count": 19,
     "metadata": {},
     "output_type": "execute_result"
    }
   ],
   "source": [
    "#a"
   ]
  },
  {
   "cell_type": "code",
   "execution_count": 20,
   "metadata": {},
   "outputs": [
    {
     "data": {
      "text/plain": [
       "array([1, 2, list(['a', 'b', 'b'])], dtype=object)"
      ]
     },
     "execution_count": 20,
     "metadata": {},
     "output_type": "execute_result"
    }
   ],
   "source": [
    "#b"
   ]
  },
  {
   "cell_type": "code",
   "execution_count": 24,
   "metadata": {},
   "outputs": [],
   "source": [
    "#bbox_count = np.zeros(80)"
   ]
  },
  {
   "cell_type": "code",
   "execution_count": 25,
   "metadata": {},
   "outputs": [
    {
     "data": {
      "text/plain": [
       "(80,)"
      ]
     },
     "execution_count": 25,
     "metadata": {},
     "output_type": "execute_result"
    }
   ],
   "source": [
    "#bbox_count.shape"
   ]
  },
  {
   "cell_type": "code",
   "execution_count": 26,
   "metadata": {},
   "outputs": [],
   "source": [
    "#onehot = np.zeros(10, dtype=np.float)\n",
    "#onehot[5] = 1.0\n",
    "#uniform_distribution = np.full(10, 1.0 / 10)\n",
    "#deta = 0.01\n",
    "#smooth_onehot = onehot * (1 - deta) + deta * uniform_distribution"
   ]
  },
  {
   "cell_type": "code",
   "execution_count": 27,
   "metadata": {},
   "outputs": [
    {
     "data": {
      "text/plain": [
       "array([0.001, 0.001, 0.001, 0.001, 0.001, 0.991, 0.001, 0.001, 0.001,\n",
       "       0.001])"
      ]
     },
     "execution_count": 27,
     "metadata": {},
     "output_type": "execute_result"
    }
   ],
   "source": [
    "#smooth_onehot"
   ]
  },
  {
   "cell_type": "code",
   "execution_count": 28,
   "metadata": {},
   "outputs": [
    {
     "data": {
      "text/plain": [
       "array([0., 0., 0., 0., 0., 1., 0., 0., 0., 0.])"
      ]
     },
     "execution_count": 28,
     "metadata": {},
     "output_type": "execute_result"
    }
   ],
   "source": [
    "#onehot"
   ]
  },
  {
   "cell_type": "code",
   "execution_count": null,
   "metadata": {},
   "outputs": [],
   "source": []
  }
 ],
 "metadata": {
  "kernelspec": {
   "display_name": "Python 3",
   "language": "python",
   "name": "python3"
  },
  "language_info": {
   "codemirror_mode": {
    "name": "ipython",
    "version": 3
   },
   "file_extension": ".py",
   "mimetype": "text/x-python",
   "name": "python",
   "nbconvert_exporter": "python",
   "pygments_lexer": "ipython3",
   "version": "3.7.5"
  },
  "toc": {
   "base_numbering": 1,
   "nav_menu": {},
   "number_sections": true,
   "sideBar": true,
   "skip_h1_title": false,
   "title_cell": "Table of Contents",
   "title_sidebar": "Contents",
   "toc_cell": false,
   "toc_position": {},
   "toc_section_display": true,
   "toc_window_display": false
  }
 },
 "nbformat": 4,
 "nbformat_minor": 2
}
